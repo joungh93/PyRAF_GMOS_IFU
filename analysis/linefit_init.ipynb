def line_par(line_numbers, broad_component = False):

    if (line_numbers == 0):
#         nlines = 2
        nlines = 1
        line_names = ['OII3727']#, 'OII3729']
        line_wav = [3727.092]#, 3729.875]
        wav_fit = [3720.0, 3740.0]
#         line_model = multi2_gauss_cdf_scale
        line_model = gauss_cdf_scale
    
    if (line_numbers == 1):
        nlines = 1
        line_names = ['Hbeta']
        line_wav = [4862.68]
        wav_fit = [4855.0, 4870.0]
        line_model = gauss_cdf_scale

    if (line_numbers == 2):
        nlines = 2
        line_names = ['OIII4959', 'OIII5007']
        line_wav = [4960.295, 5008.240]
        wav_fit = [4950.0, 5015.0]
        line_model = multi2_gauss_cdf_scale

    if (line_numbers == 3):
        if broad_component:
            nlines = 5
            line_names = ['NII6548', 'Halpha', 'NII6584', 'Broad1', 'Broad2']
            line_wav = [6549.86, 6564.61, 6585.27, 6564.61, 6564.61]
            wav_fit = [6500.0, 6625.0]
            line_model = multi5_gauss_cdf_scale
        else:
            nlines = 3
            line_names = ['NII6548', 'Halpha', 'NII6584']
            line_wav = [6549.86, 6564.61, 6585.27]
            wav_fit = [6540.0, 6595.0]
            line_model = multi3_gauss_cdf_scale

    if (line_numbers == 4):
        nlines = 2
        line_names = ['SII6717', 'SII6731']
        line_wav = [6718.29, 6732.67]
        wav_fit = [6710.0, 6740.0]
        line_model = multi2_gauss_cdf_scale

    if (line_numbers == 5):
        nlines = 1
        line_names = ['OI6300']
        line_wav = [6302.046]
        wav_fit = [6295.0, 6310.0]
        line_model = gauss_cdf_scale
    
    return [nlines, line_names, line_wav, wav_fit, line_model]

f = open('linefit_integrated.txt','w')
f.write('# line  mu  e_mu  lsig  e_lsig  vsig  e_vsig  R  e_R  flux  e_flux  rchisq\n')
f.close()

g = open('linefit_integrated_broad.txt','w')
g.write('# line  mu  e_mu  lsig  e_lsig  vsig  e_vsig  R  e_R  flux  e_flux  rchisq flxsum_scale\n')
g.close()
